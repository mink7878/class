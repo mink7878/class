{
  "nbformat": 4,
  "nbformat_minor": 0,
  "metadata": {
    "colab": {
      "provenance": [],
      "authorship_tag": "ABX9TyOdZO3HaXLa3fhYb/3tFh/N",
      "include_colab_link": true
    },
    "kernelspec": {
      "name": "python3",
      "display_name": "Python 3"
    },
    "language_info": {
      "name": "python"
    }
  },
  "cells": [
    {
      "cell_type": "markdown",
      "metadata": {
        "id": "view-in-github",
        "colab_type": "text"
      },
      "source": [
        "<a href=\"https://colab.research.google.com/github/mink7878/class/blob/main/practice/Untitled0.ipynb\" target=\"_parent\"><img src=\"https://colab.research.google.com/assets/colab-badge.svg\" alt=\"Open In Colab\"/></a>"
      ]
    },
    {
      "cell_type": "markdown",
      "source": [
        "# 하이"
      ],
      "metadata": {
        "id": "Quki86S2NvCC"
      }
    },
    {
      "cell_type": "markdown",
      "source": [
        "연습해보기"
      ],
      "metadata": {
        "id": "IEA4yZLONxqh"
      }
    },
    {
      "cell_type": "markdown",
      "source": [
        "$\\int_{a}^{b} f(x)dx = F(b) - F(a)$"
      ],
      "metadata": {
        "id": "9hQsiuxMOLBF"
      }
    }
  ]
}